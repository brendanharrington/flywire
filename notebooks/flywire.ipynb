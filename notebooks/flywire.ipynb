{
 "cells": [
  {
   "cell_type": "markdown",
   "metadata": {},
   "source": [
    "# Import `graph-tool` and other dependencies"
   ]
  },
  {
   "cell_type": "code",
   "execution_count": 1,
   "metadata": {},
   "outputs": [],
   "source": [
    "import graph_tool.all as gt "
   ]
  },
  {
   "cell_type": "code",
   "execution_count": 8,
   "metadata": {},
   "outputs": [],
   "source": [
    "from datetime import datetime"
   ]
  },
  {
   "cell_type": "code",
   "execution_count": 9,
   "metadata": {},
   "outputs": [],
   "source": [
    "import pickle"
   ]
  },
  {
   "cell_type": "markdown",
   "metadata": {},
   "source": [
    "# Load `connections.gt.gz` file as a `Graph()` object"
   ]
  },
  {
   "cell_type": "code",
   "execution_count": 3,
   "metadata": {},
   "outputs": [],
   "source": [
    "g = gt.load_graph(\"connections.gt.gz\")"
   ]
  },
  {
   "cell_type": "markdown",
   "metadata": {},
   "source": [
    "# Verify graph loaded correctly"
   ]
  },
  {
   "cell_type": "code",
   "execution_count": 4,
   "metadata": {},
   "outputs": [
    {
     "name": "stdout",
     "output_type": "stream",
     "text": [
      "GRAPH STATISTICS\n",
      "G: <Graph object, directed, with 134181 vertices and 3869878 edges, 1 internal vertex property, 3 internal edge properties, at 0x14b237d40>\n",
      "Vertex properties: ['name']\n",
      "Edge properties: ['neuropil', 'syn_count', 'nt_type']\n",
      "\n",
      "FIRST 5 EDGES AND THEIR PROPERTIES\n",
      "(0, 1) {'neuropil': 'AVLP_R', 'syn_count': 7, 'nt_type': 'GABA'}\n",
      "(0, 417) {'neuropil': 'AVLP_R', 'syn_count': 16, 'nt_type': 'GABA'}\n",
      "(0, 1245) {'neuropil': 'AVLP_R', 'syn_count': 7, 'nt_type': 'GABA'}\n",
      "(0, 1306) {'neuropil': 'AVLP_R', 'syn_count': 5, 'nt_type': 'GABA'}\n",
      "(0, 700) {'neuropil': 'AVLP_R', 'syn_count': 21, 'nt_type': 'GABA'}\n"
     ]
    }
   ],
   "source": [
    "print(\"GRAPH STATISTICS\")\n",
    "print(\"G:\", g)\n",
    "print(\"Vertex properties:\", list(g.vp.keys()))\n",
    "print(\"Edge properties:\", list(g.ep.keys()))\n",
    "\n",
    "# Print the first 5 edges and their properties\n",
    "print(\"\\nFIRST 5 EDGES AND THEIR PROPERTIES\")\n",
    "for e in list(g.edges())[:5]:  # Convert to a list to slice\n",
    "    print(e, {prop: g.ep[prop][e] for prop in g.ep})"
   ]
  },
  {
   "cell_type": "markdown",
   "metadata": {},
   "source": [
    "# Stochastic Block Model (SBM)"
   ]
  },
  {
   "cell_type": "code",
   "execution_count": 21,
   "metadata": {},
   "outputs": [],
   "source": [
    "state = gt.minimize_blockmodel_dl(g)"
   ]
  },
  {
   "cell_type": "code",
   "execution_count": 63,
   "metadata": {},
   "outputs": [
    {
     "name": "stdout",
     "output_type": "stream",
     "text": [
      "Total number of nodes: 134181\n",
      "Total number of edges: 3869878\n",
      "Total number of blocks: 134181\n",
      "Effective number of blocks: 377.09409310434916\n",
      "Model entropy: 19340921.313920103\n",
      "Model description length: 19340921.313920103\n"
     ]
    }
   ],
   "source": [
    "# Define a variable to represent the BlockState property map with block labels\n",
    "blocks = state.get_blocks()\n",
    "\n",
    "num_nodes = state.get_N()\n",
    "print(f'Total number of nodes: {num_nodes}')\n",
    "\n",
    "num_edges = state.get_E()\n",
    "print(f'Total number of edges: {num_edges}')\n",
    "\n",
    "num_blocks = state.get_B()\n",
    "print(f'Total number of blocks: {num_blocks}')\n",
    "\n",
    "eff_num_blocks = state.get_Be()\n",
    "print(f'Effective number of blocks: {eff_num_blocks}')\n",
    "\n",
    "# Calculate entropy of the model\n",
    "entropy = state.entropy()\n",
    "print(f\"Model entropy: {entropy}\")\n",
    "\n",
    "# Calculate the description length (DL)\n",
    "dl = state.entropy(dl=True)\n",
    "print(f\"Model description length: {dl}\")"
   ]
  },
  {
   "cell_type": "markdown",
   "metadata": {},
   "source": [
    "# Nested SBM"
   ]
  },
  {
   "cell_type": "code",
   "execution_count": 5,
   "metadata": {},
   "outputs": [],
   "source": [
    "state_nested = gt.minimize_nested_blockmodel_dl(g)"
   ]
  },
  {
   "cell_type": "code",
   "execution_count": 6,
   "metadata": {},
   "outputs": [
    {
     "name": "stdout",
     "output_type": "stream",
     "text": [
      "l: 0, N: 134181, B: 7571\n",
      "l: 1, N: 7571, B: 2824\n",
      "l: 2, N: 2824, B: 847\n",
      "l: 3, N: 847, B: 383\n",
      "l: 4, N: 383, B: 175\n",
      "l: 5, N: 175, B: 68\n",
      "l: 6, N: 68, B: 35\n",
      "l: 7, N: 35, B: 13\n",
      "l: 8, N: 13, B: 5\n",
      "l: 9, N: 5, B: 2\n",
      "l: 10, N: 2, B: 1\n",
      "l: 11, N: 1, B: 1\n"
     ]
    }
   ],
   "source": [
    "state_nested.print_summary()"
   ]
  },
  {
   "cell_type": "code",
   "execution_count": 10,
   "metadata": {},
   "outputs": [],
   "source": [
    "with open(\"state_nested.pkl\", \"wb\") as f:\n",
    "  pickle.dump(state_nested, f, protocol=pickle.HIGHEST_PROTOCOL)"
   ]
  },
  {
   "cell_type": "code",
   "execution_count": null,
   "metadata": {},
   "outputs": [
    {
     "name": "stdout",
     "output_type": "stream",
     "text": [
      "<NestedBlockState object, with base <BlockState object with 134181 blocks (7571 nonempty), degree-corrected, for graph <Graph object, directed, with 134181 vertices and 3869878 edges, 1 internal vertex property, 3 internal edge properties, at 0x169ed8170>, at 0x169ef5ca0>, and 19 levels of sizes [(134181, 7571), (7571, 2824), (2824, 847), (847, 383), (383, 175), (175, 68), (68, 35), (35, 13), (13, 5), (5, 2), (2, 1), (1, 1), (1, 1), (1, 1), (1, 1), (1, 1), (1, 1), (1, 1), (1, 1)] at 0x169edbd40>\n",
      "l: 0, N: 134181, B: 7571\n",
      "l: 1, N: 7571, B: 2824\n",
      "l: 2, N: 2824, B: 847\n",
      "l: 3, N: 847, B: 383\n",
      "l: 4, N: 383, B: 175\n",
      "l: 5, N: 175, B: 68\n",
      "l: 6, N: 68, B: 35\n",
      "l: 7, N: 35, B: 13\n",
      "l: 8, N: 13, B: 5\n",
      "l: 9, N: 5, B: 2\n",
      "l: 10, N: 2, B: 1\n",
      "l: 11, N: 1, B: 1\n"
     ]
    }
   ],
   "source": [
    "with open(\"state_nested.pkl\", \"rb\") as f:\n",
    "    state_nested2 = pickle.load(f)"
   ]
  },
  {
   "cell_type": "code",
   "execution_count": 69,
   "metadata": {},
   "outputs": [],
   "source": [
    "# Generate a timestamp\n",
    "timestamp = datetime.now().strftime(\"%Y%m%d_%H%M%S\")\n",
    "\n",
    "# Create a unique filename\n",
    "state_filename = f'sbm_state_{timestamp}.gt'\n",
    "nested_state_filename = f'nested_sbm_state_{timestamp}.gt'"
   ]
  },
  {
   "cell_type": "code",
   "execution_count": null,
   "metadata": {},
   "outputs": [],
   "source": []
  }
 ],
 "metadata": {
  "kernelspec": {
   "display_name": "Python 3",
   "language": "python",
   "name": "python3"
  },
  "language_info": {
   "codemirror_mode": {
    "name": "ipython",
    "version": 3
   },
   "file_extension": ".py",
   "mimetype": "text/x-python",
   "name": "python",
   "nbconvert_exporter": "python",
   "pygments_lexer": "ipython3",
   "version": "3.12.7"
  }
 },
 "nbformat": 4,
 "nbformat_minor": 2
}
