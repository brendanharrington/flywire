{
 "cells": [
  {
   "cell_type": "markdown",
   "metadata": {},
   "source": [
    "# Import `graph-tool` and other dependencies"
   ]
  },
  {
   "cell_type": "code",
   "execution_count": 1,
   "metadata": {},
   "outputs": [],
   "source": [
    "import graph_tool.all as gt"
   ]
  },
  {
   "cell_type": "code",
   "execution_count": 2,
   "metadata": {},
   "outputs": [],
   "source": [
    "import pickle"
   ]
  },
  {
   "cell_type": "markdown",
   "metadata": {},
   "source": [
    "# Load `connections.gt.gz` file as a `Graph()` object"
   ]
  },
  {
   "cell_type": "code",
   "execution_count": 3,
   "metadata": {},
   "outputs": [],
   "source": [
    "g = gt.load_graph(\"connections.gt.gz\")"
   ]
  },
  {
   "cell_type": "markdown",
   "metadata": {},
   "source": [
    "# Verify graph loaded correctly"
   ]
  },
  {
   "cell_type": "code",
   "execution_count": 4,
   "metadata": {},
   "outputs": [
    {
     "name": "stdout",
     "output_type": "stream",
     "text": [
      "GRAPH STATISTICS\n",
      "G: <Graph object, directed, with 134181 vertices and 3869878 edges, 1 internal vertex property, 3 internal edge properties, at 0x15069a210>\n",
      "Vertex properties: ['name']\n",
      "Edge properties: ['neuropil', 'syn_count', 'nt_type']\n",
      "\n",
      "FIRST 5 EDGES AND THEIR PROPERTIES\n",
      "(0, 1) {'neuropil': 'AVLP_R', 'syn_count': 7, 'nt_type': 'GABA'}\n",
      "(0, 417) {'neuropil': 'AVLP_R', 'syn_count': 16, 'nt_type': 'GABA'}\n",
      "(0, 1245) {'neuropil': 'AVLP_R', 'syn_count': 7, 'nt_type': 'GABA'}\n",
      "(0, 1306) {'neuropil': 'AVLP_R', 'syn_count': 5, 'nt_type': 'GABA'}\n",
      "(0, 700) {'neuropil': 'AVLP_R', 'syn_count': 21, 'nt_type': 'GABA'}\n"
     ]
    }
   ],
   "source": [
    "print(\"GRAPH STATISTICS\")\n",
    "print(\"G:\", g)\n",
    "print(\"Vertex properties:\", list(g.vp.keys()))\n",
    "print(\"Edge properties:\", list(g.ep.keys()))\n",
    "\n",
    "# Print the first 5 edges and their properties\n",
    "print(\"\\nFIRST 5 EDGES AND THEIR PROPERTIES\")\n",
    "for e in list(g.edges())[:5]:  # Convert to a list to slice\n",
    "    print(e, {prop: g.ep[prop][e] for prop in g.ep})"
   ]
  },
  {
   "cell_type": "markdown",
   "metadata": {},
   "source": [
    "# Load `NestedBlockState` "
   ]
  },
  {
   "cell_type": "code",
   "execution_count": 6,
   "metadata": {},
   "outputs": [],
   "source": [
    "with open(\"state_nested.pkl\", \"rb\") as f:\n",
    "  state_nested = pickle.load(f)"
   ]
  },
  {
   "cell_type": "code",
   "execution_count": 7,
   "metadata": {},
   "outputs": [
    {
     "name": "stdout",
     "output_type": "stream",
     "text": [
      "l: 0, N: 134181, B: 7571\n",
      "l: 1, N: 7571, B: 2824\n",
      "l: 2, N: 2824, B: 847\n",
      "l: 3, N: 847, B: 383\n",
      "l: 4, N: 383, B: 175\n",
      "l: 5, N: 175, B: 68\n",
      "l: 6, N: 68, B: 35\n",
      "l: 7, N: 35, B: 13\n",
      "l: 8, N: 13, B: 5\n",
      "l: 9, N: 5, B: 2\n",
      "l: 10, N: 2, B: 1\n",
      "l: 11, N: 1, B: 1\n"
     ]
    }
   ],
   "source": [
    "state_nested.print_summary()"
   ]
  },
  {
   "cell_type": "code",
   "execution_count": 9,
   "metadata": {},
   "outputs": [
    {
     "name": "stdout",
     "output_type": "stream",
     "text": [
      "Number of levels: 19\n",
      "Level 0: 7571 blocks\n",
      "Level 1: 2824 blocks\n",
      "Level 2: 847 blocks\n",
      "Level 3: 383 blocks\n",
      "Level 4: 175 blocks\n",
      "Level 5: 68 blocks\n",
      "Level 6: 35 blocks\n",
      "Level 7: 13 blocks\n",
      "Level 8: 5 blocks\n",
      "Level 9: 2 blocks\n",
      "Level 10: 1 blocks\n",
      "Level 11: 1 blocks\n",
      "Level 12: 1 blocks\n",
      "Level 13: 1 blocks\n",
      "Level 14: 1 blocks\n",
      "Level 15: 1 blocks\n",
      "Level 16: 1 blocks\n",
      "Level 17: 1 blocks\n",
      "Level 18: 1 blocks\n"
     ]
    }
   ],
   "source": [
    "# Get the hierarchy of blocks\n",
    "nested_blocks = state_nested.get_levels()\n",
    "\n",
    "# Print number of levels in the hierarchy\n",
    "print(f\"Number of levels: {len(nested_blocks)}\")\n",
    "\n",
    "# Analyze block assignments at each level\n",
    "for level, block_state in enumerate(nested_blocks):\n",
    "  print(f\"Level {level}: {len(set(block_state.get_blocks()))} blocks\")"
   ]
  },
  {
   "cell_type": "code",
   "execution_count": 10,
   "metadata": {},
   "outputs": [
    {
     "data": {
      "text/plain": [
       "(<VertexPropertyMap object with value type 'vector<double>', for Graph 0x16e7abda0, at 0x16e862bd0>,\n",
       " <GraphView object, directed, with 146105 vertices and 146104 edges, edges filtered by (<EdgePropertyMap object with value type 'bool', for Graph 0x16e8689b0, at 0x16e860bf0>, False), vertices filtered by (<VertexPropertyMap object with value type 'bool', for Graph 0x16e8689b0, at 0x16e860b30>, False), at 0x16e8689b0>,\n",
       " <VertexPropertyMap object with value type 'vector<double>', for Graph 0x16e8689b0, at 0x16e861400>)"
      ]
     },
     "execution_count": 10,
     "metadata": {},
     "output_type": "execute_result"
    }
   ],
   "source": [
    "# Use the top-level block assignments for visualization\n",
    "state_nested.draw(output=\"nested_state_graph.pdf\")"
   ]
  }
 ],
 "metadata": {
  "kernelspec": {
   "display_name": "Python 3",
   "language": "python",
   "name": "python3"
  },
  "language_info": {
   "codemirror_mode": {
    "name": "ipython",
    "version": 3
   },
   "file_extension": ".py",
   "mimetype": "text/x-python",
   "name": "python",
   "nbconvert_exporter": "python",
   "pygments_lexer": "ipython3",
   "version": "3.12.7"
  }
 },
 "nbformat": 4,
 "nbformat_minor": 2
}
